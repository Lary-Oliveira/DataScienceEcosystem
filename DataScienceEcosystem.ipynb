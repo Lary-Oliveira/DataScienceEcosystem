{
 "cells": [
  {
   "cell_type": "markdown",
   "id": "a42a2589-f62b-4b3d-b4a0-841ed8b8b130",
   "metadata": {},
   "source": [
    "# Data Science Tools and Ecosystem"
   ]
  },
  {
   "cell_type": "markdown",
   "id": "472ced51-a07c-410b-8460-40d8bf5d4cce",
   "metadata": {},
   "source": [
    "In this notebook, Data Science Tools and Ecosystem are summarized."
   ]
  },
  {
   "cell_type": "markdown",
   "id": "51f2ea30-626d-4c08-9b93-36867836c3f0",
   "metadata": {},
   "source": [
    "Some of the popular languages that Data Scientists use are:\n",
    "\n",
    "1. Python  \n",
    "2. R  \n",
    "3. Julia  \n",
    "4. SQL  \n"
   ]
  },
  {
   "cell_type": "markdown",
   "id": "d8c032f0-e713-4216-ab4b-af55fa69eb2e",
   "metadata": {},
   "source": [
    "Some of the commonly used libraries by Data Scientists include:\n",
    "\n",
    "1. Pandas  \n",
    "2. NumPy  \n",
    "3. Scikit-learn  \n",
    "4. TensorFlow  \n",
    "5. Matplotlib  \n"
   ]
  },
  {
   "cell_type": "markdown",
   "id": "d4383ae3-f00f-43a0-83b0-e85d4d4710d2",
   "metadata": {},
   "source": [
    "| Data Science Tools |\n",
    "|--------------------|\n",
    "| Jupyter Notebook  |\n",
    "| Apache Spark      |\n",
    "| RStudio           |\n"
   ]
  },
  {
   "cell_type": "markdown",
   "id": "620193ad-84e2-4ade-bee8-2e902a5c050e",
   "metadata": {},
   "source": [
    "### Below are some examples of evaluating arithmetic expressions in Python"
   ]
  },
  {
   "cell_type": "code",
   "execution_count": 1,
   "id": "b59787c9-8a18-44bb-b8dd-d510d88acbe5",
   "metadata": {},
   "outputs": [
    {
     "name": "stdout",
     "output_type": "stream",
     "text": [
      "17\n"
     ]
    }
   ],
   "source": [
    "# This is a simple arithmetic expression to multiply and then add integers\n",
    "result = (3 * 4) + 5\n",
    "print(result)  # Expected output: 17"
   ]
  },
  {
   "cell_type": "code",
   "execution_count": 2,
   "id": "0e184e53-cc20-4601-ac60-e60837922cd1",
   "metadata": {},
   "outputs": [
    {
     "name": "stdout",
     "output_type": "stream",
     "text": [
      "It is 3.33 hours\n"
     ]
    }
   ],
   "source": [
    "# This will convert 200 minutes to hours by dividing by 60\n",
    "hours = 200 / 60\n",
    "print(f\"It is {hours:.2f} hours\")  "
   ]
  },
  {
   "cell_type": "markdown",
   "id": "2201e65a-f3ce-466b-a35f-6882d871163e",
   "metadata": {},
   "source": [
    "**Objectives:**\n",
    "- List popular languages for Data Science  \n",
    "- List commonly used libraries in Data Science  \n",
    "- Create tables and lists using Markdown  \n",
    "- Evaluate arithmetic expressions in Python  \n",
    "- Convert units using mathematical expressions  "
   ]
  },
  {
   "cell_type": "markdown",
   "id": "c3ed498a-a1a5-430d-9dbe-4bf90bdfac30",
   "metadata": {},
   "source": [
    "## Author  \n",
    "Larissa de Oliveira Corrêa  "
   ]
  }
 ],
 "metadata": {
  "kernelspec": {
   "display_name": "Python 3 (ipykernel)",
   "language": "python",
   "name": "python3"
  },
  "language_info": {
   "codemirror_mode": {
    "name": "ipython",
    "version": 3
   },
   "file_extension": ".py",
   "mimetype": "text/x-python",
   "name": "python",
   "nbconvert_exporter": "python",
   "pygments_lexer": "ipython3",
   "version": "3.12.7"
  }
 },
 "nbformat": 4,
 "nbformat_minor": 5
}
